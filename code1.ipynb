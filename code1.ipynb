{
 "cells": [
  {
   "cell_type": "code",
   "execution_count": 9,
   "id": "e31a0829",
   "metadata": {
    "scrolled": true
   },
   "outputs": [
    {
     "name": "stdout",
     "output_type": "stream",
     "text": [
      "List of numbers: [99, 86, 73, 57, 85, 82, 67, 55, 38, 71, 36, 83, 56, 52, 85, 26, 55, 18, 47, 44, 48, 77, 77, 77, 22, 44, 45, 33, 63, 11, 27, 41, 64, 77, 66, 99, 15, 24, 22, 22, 61, 32, 84, 99, 66, 77, 55, 99, 66, 77, 22, 82, 55, 28, 62, 32, 27, 33, 77, 29, 94, 87, 81, 99, 65, 44, 35, 21, 85, 55, 88, 35, 26, 21, 22, 81, 22, 72, 56, 44, 11, 22, 51, 22, 44, 99, 78, 22, 11, 91, 87, 22, 58, 68, 66, 13, 58, 66, 35, 44, 54, 34, 34, 84, 16, 46, 55, 32, 99, 66, 15, 19, 91, 77, 86, 51, 67, 55, 81, 37, 78, 34, 59, 37, 99, 42, 27, 15, 44, 18, 66, 77, 82, 91, 84, 55, 12, 88, 55, 22, 98, 14, 22, 35, 51, 75, 26, 65, 11, 88, 23, 88, 67, 86, 68, 39, 41, 33, 22, 66, 52, 97, 46, 62, 96, 44, 31, 18, 11, 12, 11, 12, 87, 99, 66, 62, 55, 61, 55, 17, 98, 92, 99, 55, 88, 99, 45, 97, 44, 11, 77, 46, 57, 88, 38, 55, 44, 25, 85, 83, 33, 14, 81, 34, 79, 91, 99, 22, 74, 58, 46, 96, 51, 19, 52, 44, 55, 87, 62, 86, 44, 31, 97, 73, 18, 33, 39, 85, 44, 74, 64, 22, 52, 77, 66, 44, 13, 57, 99, 98, 86, 98, 47, 44, 77, 66, 43, 51, 55, 67, 67, 99, 93, 22, 77, 69, 86, 33, 44, 85, 63, 66, 73, 33, 74, 72, 35, 22, 44, 66, 66, 66, 33, 84, 88, 55, 22, 22, 63, 33, 28, 91, 88, 18, 55, 96, 33, 69, 12, 15, 66, 64, 55, 22, 96, 95, 12, 11, 98, 94, 13, 58, 12, 88, 85, 99, 78, 88, 23, 55, 77, 81, 93, 77, 22, 43, 86, 49, 11, 55, 44, 14, 17, 55, 88, 63, 33, 66, 99, 52, 77, 85, 16, 84, 92, 88, 75, 67, 44, 14, 55, 56, 66, 88, 56, 54, 11, 48, 33, 81, 32, 55, 66, 99, 77, 44, 61, 46, 77, 99, 43, 55, 92, 65, 22, 86, 19, 33, 44, 33, 99, 92, 27, 55, 76, 11, 86, 77, 22, 41, 74, 92, 22, 34, 54, 15, 55, 65, 25, 89, 67, 32, 11, 99, 71, 23, 66, 99, 88, 59, 86, 99, 39, 33, 65, 49, 77, 66, 12, 53, 33, 38, 22, 28, 33, 55, 44, 27, 44, 37, 55, 35, 28, 44, 88, 93, 57, 87, 19, 13, 46, 15, 87, 16, 26, 86, 88, 27, 33, 44, 21, 99, 67, 24, 66, 31, 95, 18, 12, 88, 67, 69, 88, 99, 95, 33, 27, 44, 22, 72, 88, 22, 66, 15, 97, 55, 82, 65, 74, 55, 22, 91, 41, 19, 98, 58, 78, 37, 98, 36, 11, 56, 78, 77, 32, 42, 94, 49, 84, 75, 24, 77, 94, 55, 42, 13, 19, 82, 42, 11, 76, 85, 47, 26, 78, 11, 24, 18, 78, 84, 11, 44, 89, 67, 97, 81, 54, 66, 88, 18, 66, 61, 17, 24, 21, 59, 61, 76, 99, 65, 88, 52, 77, 22, 88, 14, 94, 17, 42, 72, 45, 78, 77, 54, 55, 86, 78, 55, 66, 37, 45, 28, 15, 99, 46, 77, 22, 59, 55, 99, 15, 12, 22, 55, 22, 92, 46, 55, 55, 38, 91, 78, 34, 44, 99, 55, 59, 43, 88, 87, 33, 66, 88, 51, 33, 85, 22, 66, 22, 15, 52, 81, 32, 76, 77, 58, 44, 66, 19, 44, 92, 68, 81, 77, 44, 25, 81, 11, 85, 97, 55, 99, 89, 92, 11, 55, 33, 94, 45, 15, 37, 94, 87, 33, 92, 44, 11, 39, 88, 77, 99, 88, 99, 22, 11, 55, 44, 27, 71, 29, 68, 31, 33, 24, 88, 52, 55, 68, 66, 35, 11, 58, 16, 99, 99, 35, 99, 22, 97, 54, 86, 88, 84, 92, 86, 36, 11, 24, 72, 66, 44, 72, 97, 33, 37, 45, 81, 59, 22, 36, 16, 44, 88, 67, 82, 92, 14, 99, 22, 85, 87, 99, 29, 88, 73, 73, 59, 13, 27, 82, 41, 22, 37, 11, 84, 78, 11, 11, 18, 86, 36, 67, 48, 88, 62, 55, 63, 99, 17, 14, 99, 91, 77, 66, 55, 54, 22, 66, 52, 44, 26, 82, 16, 55, 96, 15, 39, 45, 57, 66, 33, 66, 33, 87, 74, 94, 77, 22, 47, 71, 11, 14, 22, 98, 11, 35, 79, 55, 22, 52, 37, 66, 19, 66, 35, 11, 22, 19, 77, 64, 68, 99, 76, 52, 57, 74, 16, 11, 79, 63, 22, 65, 49, 33, 14, 76, 77, 77, 31, 44, 19, 88, 12, 81, 44, 21, 99, 77, 66, 77, 51, 73, 77, 55, 77, 28, 27, 21, 19, 55, 58, 36, 43, 77, 55, 99, 66, 66, 26, 66, 31, 77, 44, 22, 22, 88, 91, 22, 88, 88, 88, 66, 99, 76, 11, 54, 22, 75, 55, 85, 96, 94, 42, 88, 82, 51, 55, 88, 94, 78, 32, 22, 63, 55, 79, 27, 52, 66, 88, 46, 33, 14, 65, 19, 49, 22, 39, 22, 47, 64, 44, 91, 61, 89, 66, 91, 11, 66, 89, 22, 96, 23, 27, 62, 24, 66, 22, 17, 99, 33, 81, 61, 29, 44, 33, 24, 82, 61, 11, 33, 33, 62, 65, 13, 68, 38, 88, 21, 91, 75, 71, 22, 99, 69, 66, 69, 54, 11, 44, 49, 11, 31, 54, 14, 33, 59, 35, 33, 37, 45, 52, 39, 99, 99, 56, 63, 77, 37, 66, 88, 77, 22, 33, 41, 22, 31, 59, 24, 77, 12, 66, 55, 99, 62, 89, 83, 22, 88, 58, 77, 25, 85, 27, 18, 45, 44, 19, 34, 66, 44, 62, 66, 11, 45, 22, 84, 66, 93, 35, 22, 64, 24, 88, 55, 41, 44, 45, 55, 25, 58, 77, 89, 99, 44, 62, 33, 88, 53, 87, 93]\n",
      "Sum of numbers: 55386\n"
     ]
    }
   ],
   "source": [
    "x = []\n",
    "\n",
    "# Replace 'your_file.txt' with the actual file path\n",
    "with open('1.txt', 'r') as file:\n",
    "    for line in file:\n",
    "        # Function to find the first and last digits in a line\n",
    "        def find_first_last_digits(s):\n",
    "            digits = [char for char in s if char.isdigit()]\n",
    "            if len(digits) == 1:\n",
    "                return digits[0], digits[0]\n",
    "            elif len(digits) >= 2:\n",
    "                return digits[0], digits[-1]\n",
    "            else:\n",
    "                return None, None\n",
    "\n",
    "        first_digit, last_digit = find_first_last_digits(line)\n",
    "\n",
    "        if first_digit is not None and last_digit is not None:\n",
    "            # Combine first and last digits into a 2-digit number\n",
    "            two_digit_number = int(str(first_digit) + str(last_digit))\n",
    "            x.append(two_digit_number)\n",
    "\n",
    "# Sum the numbers in x\n",
    "sum_of_numbers = sum(x)\n",
    "\n",
    "# Print the result\n",
    "print(\"List of numbers:\", x)\n",
    "print(\"Sum of numbers:\", sum_of_numbers)\n"
   ]
  },
  {
   "cell_type": "code",
   "execution_count": null,
   "id": "50fc7f03",
   "metadata": {},
   "outputs": [],
   "source": [
    "digits_string = ['one', 'two', 'three', 'four', 'five', 'six', 'seven', 'eight', 'nine']\n",
    "di=[1,2,3,4,5,6,7,8,9]\n",
    "def find_occurrences(x,line):\n",
    "    \n",
    "    for digit_str in digits_string:\n",
    "        start=0\n",
    "        while start<len(line):\n",
    "            \n",
    "                index = line.find(digit_str,start)\n",
    "                if index== -1:\n",
    "                    break\n",
    "                x[index] = di[digits_string.index(digit_str)]\n",
    "                start=index+len(digit_str)-1\n",
    "            \n",
    "    return x\n",
    "\n",
    "def main(file_path):\n",
    "    y=[]\n",
    "    with open(file_path, 'r') as file:\n",
    "        for line_number, line in enumerate(file, start=1):\n",
    "            x = {}\n",
    "            occurrences = find_occurrences(x,line)\n",
    "            for index, char in enumerate(line):\n",
    "                if char.isdigit():\n",
    "                    x[index] = int(char)\n",
    "            \n",
    "            print(f\"Line {line_number}: {occurrences}\")\n",
    "            smallest_key = min(x)\n",
    "            largest_key = max(x)\n",
    "            two_digit_number = int(str(x[smallest_key]) + str(x[largest_key]))\n",
    "            print(two_digit_number)\n",
    "            y.append(two_digit_number)\n",
    "    print(y)\n",
    "    print(sum(y))\n",
    "\n",
    "# Example usage:\n",
    "file_path = '1.txt'  # Replace with the actual path to your file\n",
    "main(file_path)\n"
   ]
  },
  {
   "cell_type": "code",
   "execution_count": null,
   "id": "4637ab45",
   "metadata": {},
   "outputs": [],
   "source": []
  }
 ],
 "metadata": {
  "kernelspec": {
   "display_name": "Python 3 (ipykernel)",
   "language": "python",
   "name": "python3"
  },
  "language_info": {
   "codemirror_mode": {
    "name": "ipython",
    "version": 3
   },
   "file_extension": ".py",
   "mimetype": "text/x-python",
   "name": "python",
   "nbconvert_exporter": "python",
   "pygments_lexer": "ipython3",
   "version": "3.10.4"
  }
 },
 "nbformat": 4,
 "nbformat_minor": 5
}
